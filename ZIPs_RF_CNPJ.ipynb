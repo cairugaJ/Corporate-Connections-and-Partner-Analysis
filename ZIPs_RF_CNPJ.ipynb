{
  "cells": [
    {
      "cell_type": "code",
      "execution_count": 49,
      "metadata": {
        "id": "-g6b1pJNfLhJ"
      },
      "outputs": [],
      "source": [
        "# Bibliotecas\n",
        "from bs4 import BeautifulSoup\n",
        "import requests\n",
        "import wget\n",
        "import os\n",
        "import sys\n",
        "import time\n",
        "import glob\n",
        "from datetime import datetime"
      ]
    },
    {
      "cell_type": "code",
      "execution_count": 50,
      "metadata": {
        "id": "dBqwjOK8hcpZ"
      },
      "outputs": [],
      "source": [
        "# URL para site da receita com dados do cadastro\n",
        "url = r'https://dados.rfb.gov.br/CNPJ/'\n",
        "\n",
        "# Caminho para diretório que armazenará os arquivos zipados\n",
        "diretorio_destino = r'caminho_para_diretorio'\n",
        "if not os.path.exists(diretorio_destino):\n",
        "    # Create the directory\n",
        "    os.mkdir(diretorio_destino)"
      ]
    },
    {
      "cell_type": "code",
      "execution_count": null,
      "metadata": {
        "id": "BW5vlcHEmFV_"
      },
      "outputs": [],
      "source": [
        "# Baixa HTML da página\n",
        "pagina = requests.get(url)\n",
        "data = pagina.text\n",
        "\n",
        "# Lê HTML\n",
        "soup = BeautifulSoup(data)\n",
        "zips = []\n",
        "\n",
        "# Coleta os links para baixar os arquivos zipados\n",
        "for link in soup.find_all('a'):\n",
        "    if str(link.get('href')).endswith('.zip'):\n",
        "        cam = link.get('href')\n",
        "        print(cam)\n",
        "        if not cam.startswith('http'):\n",
        "            zips.append(url+cam)\n",
        "        else:\n",
        "            zips.append(cam)"
      ]
    },
    {
      "cell_type": "code",
      "execution_count": 47,
      "metadata": {
        "id": "aPeH1TcRm823"
      },
      "outputs": [],
      "source": [
        "# Registra data da coleta dos dados\n",
        "data_coleta = datetime.now().strftime('%Y-%m-%d') + '_'\n",
        "\n",
        "# Baixa os arquivos\n",
        "for url in zips:\n",
        "    wget.download(url, out=os.path.join(diretorio_destino, data_coleta+ os.path.split(url)[1]))\n",
        "    time.sleep(3)"
      ]
    }
  ],
  "metadata": {
    "colab": {
      "provenance": []
    },
    "kernelspec": {
      "display_name": "Python 3",
      "name": "python3"
    },
    "language_info": {
      "codemirror_mode": {
        "name": "ipython",
        "version": 3
      },
      "file_extension": ".py",
      "mimetype": "text/x-python",
      "name": "python",
      "nbconvert_exporter": "python",
      "pygments_lexer": "ipython3",
      "version": "3.12.0"
    }
  },
  "nbformat": 4,
  "nbformat_minor": 0
}
